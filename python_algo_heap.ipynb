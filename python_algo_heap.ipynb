{
 "cells": [
  {
   "cell_type": "markdown",
   "metadata": {},
   "source": [
    "# What is a Heap?\n",
    "\n",
    "- complete binary tree, which means each layer is full except for bottom layer. At the bottom layer, nodes are filled from left to right\n",
    "- Heap Property: every node <= its parent in MaxHeap; every node >= parent in MinHeap\n",
    "\n",
    "- easy to implement using an array, in layered order. Ignore index 0 and start at index 1\n",
    "    - index of parent: i//2\n",
    "    - index of left child: i*2\n",
    "    - index of right child: i*2 +1\n",
    "\n",
    "# Operations\n",
    "\n",
    "- best case O(log n); avg and worst case O(2 n lg n)\n",
    "- push (insert) \n",
    "    - O(log n)\n",
    "    - add value to end of array, always top to bottom and left to right\n",
    "    - float it up to its proper position\n",
    "- peek (get max) \n",
    "    - O(1)\n",
    "    - return value at heap[1] (root)\n",
    "- pop (remove max) \n",
    "    - O(log n)\n",
    "    - move max to end of array\n",
    "    - save value and delete from heap\n",
    "    - bubble down the item at index 1 to its proper pos\n",
    "    - return saved max value\n",
    "\n",
    "# Use Cases\n",
    "\n",
    "- heapsort\n",
    "- priority queue\n",
    "- selection algo\n",
    "- graph algo"
   ]
  },
  {
   "cell_type": "code",
   "execution_count": 74,
   "metadata": {},
   "outputs": [],
   "source": [
    "class MaxHeap:\n",
    "    def __init__(self, arr=[]):\n",
    "        super().__init__()\n",
    "        self.heap = [0]\n",
    "        for i in arr:\n",
    "            self.heap.append(i)\n",
    "            self.__floatUp(len(self.heap)-1)\n",
    "            \n",
    "    def peek(self):\n",
    "        if len(self.heap >=2):\n",
    "            return self.heap[1]\n",
    "        else:\n",
    "            return\n",
    "    \n",
    "    def push(self, val):\n",
    "        self.heap.append(val)\n",
    "        self.__floatUp(len(self.heap)-1)\n",
    "    \n",
    "    def pop(self):\n",
    "        self.heap[1], self.heap[len(self.heap)-1] = self.heap[len(self.heap)-1], self.heap[1] # switch first and last value\n",
    "        max = self.heap.pop() # pop out last value as max\n",
    "        self.__bubbleDown(1) # bubble down first value ### bracket i, not val!!!\n",
    "        return max # return saved max value\n",
    "        \n",
    "    def __floatUp(self, i):\n",
    "        if i <= 1: # empty heap or one item in heap NOT len(self.heap) <= 2\n",
    "            return\n",
    "        elif self.heap[i] > self.heap[i//2]:\n",
    "                self.heap[i], self.heap[i//2] = self.heap[i//2], self.heap[i]\n",
    "                self.__floatUp(i//2)  # float up index, not val\n",
    "        \n",
    "    def __bubbleDown(self, i):\n",
    "        left = i * 2 \n",
    "        right  = i *2 + 1\n",
    "        max = i\n",
    "        \n",
    "        if len(self.heap) > left and self.heap[max] < self.heap[left]: # not max < ...\n",
    "            max = left\n",
    "            print(max,'left')\n",
    "        if len(self.heap) > right and self.heap[max] < self.heap[right]:\n",
    "            max = right\n",
    "            print(max,'right')\n",
    "        \n",
    "        if max != i:\n",
    "            self.heap[max], self.heap[i] = self.heap[i], self.heap[max] # self!\n",
    "            print(self.heap)\n",
    "            self.__bubbleDown(max)"
   ]
  },
  {
   "cell_type": "code",
   "execution_count": 75,
   "metadata": {},
   "outputs": [],
   "source": [
    "h = MaxHeap([3,4,5])\n",
    "print(str(h.heap[:]))"
   ]
  }
 ],
 "metadata": {
  "kernelspec": {
   "display_name": "Python 3",
   "language": "python",
   "name": "python3"
  },
  "language_info": {
   "codemirror_mode": {
    "name": "ipython",
    "version": 3
   },
   "file_extension": ".py",
   "mimetype": "text/x-python",
   "name": "python",
   "nbconvert_exporter": "python",
   "pygments_lexer": "ipython3",
   "version": "3.8.2"
  }
 },
 "nbformat": 4,
 "nbformat_minor": 4
}
